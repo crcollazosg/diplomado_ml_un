{
  "nbformat": 4,
  "nbformat_minor": 0,
  "metadata": {
    "colab": {
      "name": "miPrimerCuadernito.ipynb",
      "provenance": []
    },
    "kernelspec": {
      "name": "python3",
      "display_name": "Python 3"
    }
  },
  "cells": [
    {
      "cell_type": "markdown",
      "metadata": {
        "id": "sR6XYGWhdOF7"
      },
      "source": [
        "# Cuaderno de Carlos Collazos"
      ]
    },
    {
      "cell_type": "markdown",
      "metadata": {
        "id": "Dpn47rqxeNBD"
      },
      "source": [
        "Objetivos para conquistar el mundo:\n",
        "- Aprender ML\n",
        "- ...??\n",
        "- Profit\n",
        "\n",
        "[Cosas para gatos en MercadoLibre](https://listado.mercadolibre.com.co/gatos)\n",
        "  \n",
        "[Cómo convertirse en Hacker, por Eric Raymond](http://www.catb.org/~esr/faqs/hacker-howto.html)\n",
        "\n",
        "![glider](http://www.catb.org/~esr/faqs/glider.png)\n",
        "\n",
        "$e^{i\\pi} -1 =0$"
      ]
    },
    {
      "cell_type": "code",
      "metadata": {
        "colab": {
          "base_uri": "https://localhost:8080/"
        },
        "id": "jfNN1RgQbhg6",
        "outputId": "5bdbee81-b6de-472a-bb09-f580c04934c8"
      },
      "source": [
        "print(\"Hola, mundo!\")"
      ],
      "execution_count": 1,
      "outputs": [
        {
          "output_type": "stream",
          "text": [
            "Hola, mundo!\n"
          ],
          "name": "stdout"
        }
      ]
    },
    {
      "cell_type": "code",
      "metadata": {
        "id": "D51wcAk7ny8v"
      },
      "source": [
        ""
      ],
      "execution_count": null,
      "outputs": []
    }
  ]
}